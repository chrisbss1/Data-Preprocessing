{
  "nbformat": 4,
  "nbformat_minor": 0,
  "metadata": {
    "colab": {
      "name": "DT_Discretization.ipynb",
      "version": "0.3.2",
      "provenance": [],
      "collapsed_sections": [],
      "include_colab_link": true
    },
    "kernelspec": {
      "name": "python3",
      "display_name": "Python 3"
    }
  },
  "cells": [
    {
      "cell_type": "markdown",
      "metadata": {
        "id": "view-in-github",
        "colab_type": "text"
      },
      "source": [
        "<a href=\"https://colab.research.google.com/gist/chrisbss1/1825e38de1c65c679ec877496a04cb9d/dt_discretization.ipynb\" target=\"_parent\"><img src=\"https://colab.research.google.com/assets/colab-badge.svg\" alt=\"Open In Colab\"/></a>"
      ]
    },
    {
      "cell_type": "markdown",
      "metadata": {
        "id": "V6bjwnvEZVlG",
        "colab_type": "text"
      },
      "source": [
        "# Discretization with Decision Tree"
      ]
    },
    {
      "cell_type": "code",
      "metadata": {
        "id": "Gl6YbPYpYCcl",
        "colab_type": "code",
        "colab": {}
      },
      "source": [
        "from sklearn import datasets\n",
        "import pandas as pd\n",
        "\n",
        "\n",
        "# Convert the dataset to dataframe\n",
        "\n",
        "iris = datasets.load_iris()\n",
        "X = iris.data\n",
        "y = iris.target\n",
        "feature_names = iris.feature_names\n",
        "\n",
        "df = pd.DataFrame(X, columns = feature_names)\n",
        "df['target'] = y\n",
        "\n"
      ],
      "execution_count": 0,
      "outputs": []
    },
    {
      "cell_type": "code",
      "metadata": {
        "id": "SCpOcjbIZBez",
        "colab_type": "code",
        "colab": {}
      },
      "source": [
        "predictors = [i for i in feature_names if i not in ['target']]\n",
        "\n",
        "X = df[predictors]\n",
        "y = df[['target']]\n",
        "\n"
      ],
      "execution_count": 0,
      "outputs": []
    },
    {
      "cell_type": "code",
      "metadata": {
        "id": "Sqm1aFdIXAmU",
        "colab_type": "code",
        "colab": {}
      },
      "source": [
        "from sklearn.tree import DecisionTreeClassifier\n",
        "from sklearn import metrics\n",
        "from sklearn.model_selection import cross_val_score\n",
        "\n",
        "a=2\n",
        "b=10\n",
        "\n",
        "\n",
        "values = []\n",
        "X_discretized = pd.DataFrame()\n",
        "\n",
        "\n",
        "for feature in feature_names :\n",
        "  for i in range(a,b+1):\n",
        "    model = DecisionTreeClassifier(criterion='gini', max_features = None, max_leaf_nodes= i)\n",
        "    model = cross_val_score(model, X[[feature]], y, cv=5, scoring='accuracy', n_jobs =-1)\n",
        "    values.append(np.mean(model)) # Add of the score for each iteration\n",
        "  model = DecisionTreeClassifier(criterion='gini', max_features = None, \n",
        "                                   max_leaf_nodes= values.index(max(values))) # Building of the decision tree with the value which have the best accuracy\n",
        "  model.fit(X[[feature]], y)\n",
        "  X_discretized[feature] = model.predict_proba(X[[feature]])[:,1]\n"
      ],
      "execution_count": 0,
      "outputs": []
    },
    {
      "cell_type": "code",
      "metadata": {
        "id": "yoUu_fA4gaCq",
        "colab_type": "code",
        "outputId": "6d09a934-8cdc-4534-db39-851e55e8b491",
        "colab": {
          "base_uri": "https://localhost:8080/",
          "height": 391
        }
      },
      "source": [
        "for i in predictors :\n",
        "  print(X_discretized[i].value_counts())"
      ],
      "execution_count": 0,
      "outputs": [
        {
          "output_type": "stream",
          "text": [
            "0.448980    98\n",
            "0.115385    52\n",
            "Name: sepal length (cm), dtype: int64\n",
            "0.433628    113\n",
            "0.027027     37\n",
            "Name: sepal width (cm), dtype: int64\n",
            "0.000    84\n",
            "1.000    37\n",
            "0.125     8\n",
            "0.875     8\n",
            "0.400     5\n",
            "0.250     4\n",
            "0.500     4\n",
            "Name: petal length (cm), dtype: int64\n",
            "0.000000    84\n",
            "1.000000    28\n",
            "0.083333    12\n",
            "0.833333    12\n",
            "0.875000     8\n",
            "0.750000     4\n",
            "0.500000     2\n",
            "Name: petal width (cm), dtype: int64\n"
          ],
          "name": "stdout"
        }
      ]
    }
  ]
}